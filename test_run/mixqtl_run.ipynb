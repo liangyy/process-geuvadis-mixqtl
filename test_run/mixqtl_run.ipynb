{
 "cells": [
  {
   "cell_type": "code",
   "execution_count": 1,
   "metadata": {},
   "outputs": [],
   "source": [
    "# Code by Francois Aguet modified by Yanyu Liang\n",
    "import pandas as pd\n",
    "import numpy as np\n",
    "import scipy.stats as stats\n",
    "import torch"
   ]
  },
  {
   "cell_type": "code",
   "execution_count": 2,
   "metadata": {},
   "outputs": [],
   "source": [
    "# load tensorqtl scripts\n",
    "import sys, os, gzip\n",
    "sys.path.insert(0, '/Users/yanyul/Documents/repo/github/tensorqtl/tensorqtl')\n",
    "\n",
    "import tensorqtl\n",
    "from tensorqtl import cis\n",
    "from tensorqtl import mixqtl"
   ]
  },
  {
   "cell_type": "code",
   "execution_count": 3,
   "metadata": {},
   "outputs": [],
   "source": [
    "# the code has been pushed to my fork tensorqtl\n",
    "# # load mixQTL.py by Francois\n",
    "# sys.path.insert(0, '/Users/yanyul/Desktop/tmp/tensorqtl_test/')\n",
    "# import mixqtl\n",
    "# from importlib import reload \n",
    "# mixqtl = reload(mixqtl)"
   ]
  },
  {
   "cell_type": "markdown",
   "metadata": {},
   "source": [
    "# Data pointers"
   ]
  },
  {
   "cell_type": "code",
   "execution_count": 4,
   "metadata": {},
   "outputs": [],
   "source": [
    "datadir = '/Users/yanyul/Desktop/tmp/GEUVADIS-mixqtl'\n",
    "\n",
    "# genotypes\n",
    "vcf = f'{datadir}/GEUVADIS.chr22.PH1PH2_465.IMPFRQFILT_BIALLELIC_PH.annotv2.genotypes.vcf.gz'\n",
    "hap1_file = f'{datadir}/tempo-GEUVADIS.chr22.PH1PH2_465.IMPFRQFILT_BIALLELIC_PH.annotv2.genotypes.hap1.parquet'\n",
    "hap2_file = f'{datadir}/tempo-GEUVADIS.chr22.PH1PH2_465.IMPFRQFILT_BIALLELIC_PH.annotv2.genotypes.hap2.parquet'\n",
    "\n",
    "# total count matrix\n",
    "trc_file = f'{datadir}/geuvadis.total_count.bed.gz'\n",
    "\n",
    "# allele-specific count matrix\n",
    "asc1_file = f'{datadir}/geuvadis.asc.h1.tsv.gz'\n",
    "asc2_file = f'{datadir}/geuvadis.asc.h2.tsv.gz'\n",
    "\n",
    "# library size\n",
    "lib_file = f'{datadir}/geuvadis.library_size.tsv.gz'\n",
    "\n",
    "# covariate matrix\n",
    "covar_file = f'{datadir}/geuvadis.covariate.txt.gz'\n",
    "\n",
    "# output prefix\n",
    "output_prefix = 'geuvadis.mixqtl_run_trc'\n",
    "\n",
    "# a reference eqtl result\n",
    "eqtl_reference = '/Users/yanyul/Downloads/EUR373.gene.cis.FDR5.all.rs137.txt.gz'"
   ]
  },
  {
   "cell_type": "markdown",
   "metadata": {},
   "source": [
    "# Load genotypes"
   ]
  },
  {
   "cell_type": "code",
   "execution_count": 5,
   "metadata": {},
   "outputs": [],
   "source": [
    "# load genotypes\n",
    "# convert vcf gz to parquet for fast access in future runs\n",
    "if not (os.path.isfile(hap1_file) and os.path.isfile(hap2_file)):\n",
    "    gt_dict = {'0':np.int8(0), '1':np.int8(1), '.':np.int8(-1)}\n",
    "\n",
    "    with gzip.open(vcf, 'rt') as f:\n",
    "        variant_ids = []\n",
    "        hap1 = []\n",
    "        hap2 = []\n",
    "        for line in f:\n",
    "            if line.startswith('##'):\n",
    "                continue\n",
    "            break\n",
    "        sample_ids = line.strip().split('\\t')[9:]\n",
    "\n",
    "        # read first line, parse field\n",
    "        line = f.readline().strip().split('\\t')\n",
    "        gt_ix = line[8].split(':').index('GT')\n",
    "        variant_ids.append(line[2])\n",
    "        d = [i.split(':')[gt_ix].split('|') if len(i.split(':')[gt_ix].split('|')) == 2 else ['.', '.'] for i in line[9:]]\n",
    "        hap1.append(np.array([gt_dict[i[0]] for i in d]))\n",
    "        hap2.append(np.array([gt_dict[i[1]] for i in d]))\n",
    "\n",
    "        for k,line in enumerate(f,2):\n",
    "            line = line.strip().split('\\t')\n",
    "            variant_ids.append(line[2])\n",
    "            d = [i.split(':')[gt_ix].split('|') if len(i.split(':')[gt_ix].split('|')) == 2 else ['.', '.'] for i in line[9:]]\n",
    "            hap1.append(np.array([gt_dict[i[0]] for i in d]))\n",
    "            hap2.append(np.array([gt_dict[i[1]] for i in d]))\n",
    "\n",
    "            if np.mod(k,1000)==0:\n",
    "                print('\\rVariants parsed: {}'.format(k), end='')\n",
    "                \n",
    "    hap1_df = pd.DataFrame(np.array(hap1), index=variant_ids, columns=sample_ids)\n",
    "    hap1_df.to_parquet(hap1_file)  # , engine='fastparquet')\n",
    "\n",
    "    hap2_df = pd.DataFrame(np.array(hap2), index=variant_ids, columns=sample_ids)\n",
    "    hap2_df.to_parquet(hap2_file)  # , engine='fastparquet')\n",
    "\n",
    "hap1_df = pd.read_parquet(hap1_file)\n",
    "hap2_df = pd.read_parquet(hap2_file)\n",
    "variant_df = pd.DataFrame({'chrom':hap1_df.index.map(lambda x: 'chr' + x.split('_')[1]),\n",
    "                           'pos':  hap1_df.index.map(lambda x: int(x.split('_')[2]))}, index=hap1_df.index)"
   ]
  },
  {
   "cell_type": "markdown",
   "metadata": {},
   "source": [
    "# Load total counts"
   ]
  },
  {
   "cell_type": "code",
   "execution_count": 6,
   "metadata": {},
   "outputs": [],
   "source": [
    "def trc_qc(df, pos_df, threshold = 100, min_obs = 50):\n",
    "    t__ = df >= threshold\n",
    "    npass = t__.sum(axis = 1)\n",
    "    df = df.loc[npass >= min_obs, :]\n",
    "    pos_df = pos_df.loc[npass >= min_obs, :]\n",
    "    return df, pos_df"
   ]
  },
  {
   "cell_type": "code",
   "execution_count": 7,
   "metadata": {},
   "outputs": [],
   "source": [
    "phenotype_df, phenotype_pos_df = tensorqtl.read_phenotype_bed(trc_file)\n",
    "phenotype_df, phenotype_pos_df = trc_qc(phenotype_df, phenotype_pos_df)\n",
    "libsize_df = pd.read_csv(lib_file, header = 0, sep = '\\t', compression = 'gzip')\n",
    "libsize_df = libsize_df.set_index('indiv')\n",
    "libsize_s = libsize_df.loc[phenotype_df.columns.tolist(), 'lib_size']"
   ]
  },
  {
   "cell_type": "code",
   "execution_count": 8,
   "metadata": {},
   "outputs": [
    {
     "name": "stderr",
     "output_type": "stream",
     "text": [
      "/Users/yanyul/miniconda3/lib/python3.7/site-packages/ipykernel_launcher.py:2: RuntimeWarning: divide by zero encountered in log\n",
      "  \n"
     ]
    }
   ],
   "source": [
    "# compute log(count / libsize)\n",
    "log_counts_df = np.log(phenotype_df / libsize_s / 2)\n",
    "log_counts_df = log_counts_df.loc[phenotype_df.index]\n",
    "log_counts_df[log_counts_df == -np.Inf] = np.NaN\n",
    "# counts_df = counts_df.loc[phenotype_df.index]"
   ]
  },
  {
   "cell_type": "markdown",
   "metadata": {},
   "source": [
    "# Load fake allele-specific counts"
   ]
  },
  {
   "cell_type": "code",
   "execution_count": 9,
   "metadata": {},
   "outputs": [],
   "source": [
    "ref_df = pd.read_csv(asc1_file, header = 0, sep = '\\t', compression = 'gzip')\n",
    "ref_df = ref_df.set_index('gene_list')\n",
    "alt_df = pd.read_csv(asc2_file, header = 0, sep = '\\t', compression = 'gzip')\n",
    "alt_df = alt_df.set_index('gene_list')"
   ]
  },
  {
   "cell_type": "markdown",
   "metadata": {},
   "source": [
    "# Load covariates"
   ]
  },
  {
   "cell_type": "code",
   "execution_count": 10,
   "metadata": {},
   "outputs": [],
   "source": [
    "covariates_df = pd.read_csv(covar_file, sep = '\\t', index_col = 0, compression = 'gzip').T\n",
    "covariates_df = covariates_df.loc[phenotype_df.columns.to_list(), :]"
   ]
  },
  {
   "cell_type": "markdown",
   "metadata": {},
   "source": [
    "# Run trcQTL"
   ]
  },
  {
   "cell_type": "code",
   "execution_count": 11,
   "metadata": {},
   "outputs": [
    {
     "name": "stdout",
     "output_type": "stream",
     "text": [
      "cis-QTL mapping: nominal associations for all variant-phenotype pairs\n",
      "  * 462 samples\n",
      "  * 403 phenotypes\n",
      "  * 26 covariates\n",
      "  * 493859 variants\n",
      "  * checking phenotypes: 403/403\n",
      "  * Computing associations\n",
      "    Mapping chromosome chr22\n",
      "    processing phenotype 403/403\n",
      "    time elapsed: 6.81 min\n"
     ]
    },
    {
     "name": "stderr",
     "output_type": "stream",
     "text": [
      "/Users/yanyul/miniconda3/lib/python3.7/site-packages/scipy/stats/_distn_infrastructure.py:903: RuntimeWarning: invalid value encountered in greater\n",
      "  return (a < x) & (x < b)\n",
      "/Users/yanyul/miniconda3/lib/python3.7/site-packages/scipy/stats/_distn_infrastructure.py:903: RuntimeWarning: invalid value encountered in less\n",
      "  return (a < x) & (x < b)\n",
      "/Users/yanyul/miniconda3/lib/python3.7/site-packages/scipy/stats/_distn_infrastructure.py:1827: RuntimeWarning: invalid value encountered in greater_equal\n",
      "  cond2 = (x >= np.asarray(_b)) & cond0\n"
     ]
    },
    {
     "name": "stdout",
     "output_type": "stream",
     "text": [
      "    * writing output\n",
      "done.\n"
     ]
    }
   ],
   "source": [
    "# map only chr1 for tests:\n",
    "ix = phenotype_pos_df[phenotype_pos_df['chr']=='chr22'].index\n",
    "mixqtl.map_nominal(hap1_df, hap2_df, variant_df, \n",
    "                   log_counts_df.loc[ix], phenotype_df.loc[ix], ref_df.loc[ix], alt_df.loc[ix],\n",
    "                   phenotype_pos_df.loc[ix], covariates_df, output_prefix,\n",
    "                   output_dir=f'{datadir}/', verbose=True)"
   ]
  },
  {
   "cell_type": "markdown",
   "metadata": {},
   "source": [
    "# Results"
   ]
  },
  {
   "cell_type": "code",
   "execution_count": 12,
   "metadata": {},
   "outputs": [],
   "source": [
    "pval_df = pd.read_parquet(f'{datadir}/{output_prefix}.cis_qtl_pairs.mixQTL.chr22.parquet')"
   ]
  },
  {
   "cell_type": "code",
   "execution_count": 13,
   "metadata": {},
   "outputs": [],
   "source": [
    "df = pval_df.loc[pval_df['maf_trc'] > 0.01].iloc[:, :10]"
   ]
  },
  {
   "cell_type": "code",
   "execution_count": 14,
   "metadata": {},
   "outputs": [],
   "source": [
    "# load eqtl results on EUR (by 1000G eQTL paper)\n",
    "df_ref = pd.read_csv(eqtl_reference, header = 0, compression = 'gzip', sep = '\\t')"
   ]
  },
  {
   "cell_type": "code",
   "execution_count": 15,
   "metadata": {},
   "outputs": [
    {
     "data": {
      "text/html": [
       "<div>\n",
       "<style scoped>\n",
       "    .dataframe tbody tr th:only-of-type {\n",
       "        vertical-align: middle;\n",
       "    }\n",
       "\n",
       "    .dataframe tbody tr th {\n",
       "        vertical-align: top;\n",
       "    }\n",
       "\n",
       "    .dataframe thead th {\n",
       "        text-align: right;\n",
       "    }\n",
       "</style>\n",
       "<table border=\"1\" class=\"dataframe\">\n",
       "  <thead>\n",
       "    <tr style=\"text-align: right;\">\n",
       "      <th></th>\n",
       "      <th>SNP_ID</th>\n",
       "      <th>ID</th>\n",
       "      <th>GENE_ID</th>\n",
       "      <th>PROBE_ID</th>\n",
       "      <th>CHR_SNP</th>\n",
       "      <th>CHR_GENE</th>\n",
       "      <th>SNPpos</th>\n",
       "      <th>TSSpos</th>\n",
       "      <th>distance</th>\n",
       "      <th>rvalue</th>\n",
       "      <th>pvalue</th>\n",
       "      <th>log10pvalue</th>\n",
       "    </tr>\n",
       "  </thead>\n",
       "  <tbody>\n",
       "    <tr>\n",
       "      <th>407207</th>\n",
       "      <td>rs4275</td>\n",
       "      <td>-</td>\n",
       "      <td>ENSG00000260065.1</td>\n",
       "      <td>ENSG00000260065.1</td>\n",
       "      <td>22</td>\n",
       "      <td>22</td>\n",
       "      <td>26921725.0</td>\n",
       "      <td>26921002</td>\n",
       "      <td>723.0</td>\n",
       "      <td>0.767814</td>\n",
       "      <td>1.809164e-73</td>\n",
       "      <td>72.742522</td>\n",
       "    </tr>\n",
       "    <tr>\n",
       "      <th>407208</th>\n",
       "      <td>rs71311575</td>\n",
       "      <td>-</td>\n",
       "      <td>ENSG00000260065.1</td>\n",
       "      <td>ENSG00000260065.1</td>\n",
       "      <td>22</td>\n",
       "      <td>22</td>\n",
       "      <td>26919156.0</td>\n",
       "      <td>26921002</td>\n",
       "      <td>1846.0</td>\n",
       "      <td>0.750119</td>\n",
       "      <td>2.198221e-68</td>\n",
       "      <td>67.657929</td>\n",
       "    </tr>\n",
       "    <tr>\n",
       "      <th>407209</th>\n",
       "      <td>rs6005067</td>\n",
       "      <td>-</td>\n",
       "      <td>ENSG00000260065.1</td>\n",
       "      <td>ENSG00000260065.1</td>\n",
       "      <td>22</td>\n",
       "      <td>22</td>\n",
       "      <td>26923325.0</td>\n",
       "      <td>26921002</td>\n",
       "      <td>2323.0</td>\n",
       "      <td>0.737897</td>\n",
       "      <td>4.089477e-65</td>\n",
       "      <td>64.388332</td>\n",
       "    </tr>\n",
       "    <tr>\n",
       "      <th>407210</th>\n",
       "      <td>rs2283824</td>\n",
       "      <td>-</td>\n",
       "      <td>ENSG00000260065.1</td>\n",
       "      <td>ENSG00000260065.1</td>\n",
       "      <td>22</td>\n",
       "      <td>22</td>\n",
       "      <td>26924456.0</td>\n",
       "      <td>26921002</td>\n",
       "      <td>3454.0</td>\n",
       "      <td>0.737108</td>\n",
       "      <td>6.556517e-65</td>\n",
       "      <td>64.183327</td>\n",
       "    </tr>\n",
       "    <tr>\n",
       "      <th>407211</th>\n",
       "      <td>rs134157</td>\n",
       "      <td>-</td>\n",
       "      <td>ENSG00000260065.1</td>\n",
       "      <td>ENSG00000260065.1</td>\n",
       "      <td>22</td>\n",
       "      <td>22</td>\n",
       "      <td>26916722.0</td>\n",
       "      <td>26921002</td>\n",
       "      <td>4280.0</td>\n",
       "      <td>-0.652115</td>\n",
       "      <td>1.983698e-46</td>\n",
       "      <td>45.702524</td>\n",
       "    </tr>\n",
       "    <tr>\n",
       "      <th>...</th>\n",
       "      <td>...</td>\n",
       "      <td>...</td>\n",
       "      <td>...</td>\n",
       "      <td>...</td>\n",
       "      <td>...</td>\n",
       "      <td>...</td>\n",
       "      <td>...</td>\n",
       "      <td>...</td>\n",
       "      <td>...</td>\n",
       "      <td>...</td>\n",
       "      <td>...</td>\n",
       "      <td>...</td>\n",
       "    </tr>\n",
       "    <tr>\n",
       "      <th>419978</th>\n",
       "      <td>rs133379</td>\n",
       "      <td>-</td>\n",
       "      <td>ENSG00000198951.6</td>\n",
       "      <td>ENSG00000198951.6</td>\n",
       "      <td>22</td>\n",
       "      <td>22</td>\n",
       "      <td>42468535.0</td>\n",
       "      <td>42466846</td>\n",
       "      <td>1689.0</td>\n",
       "      <td>0.231022</td>\n",
       "      <td>6.568113e-06</td>\n",
       "      <td>5.182559</td>\n",
       "    </tr>\n",
       "    <tr>\n",
       "      <th>419979</th>\n",
       "      <td>rs4253766</td>\n",
       "      <td>-</td>\n",
       "      <td>ENSG00000075234.12</td>\n",
       "      <td>ENSG00000075234.12</td>\n",
       "      <td>22</td>\n",
       "      <td>22</td>\n",
       "      <td>46623905.0</td>\n",
       "      <td>46663858</td>\n",
       "      <td>39953.0</td>\n",
       "      <td>-0.231008</td>\n",
       "      <td>6.576526e-06</td>\n",
       "      <td>5.182003</td>\n",
       "    </tr>\n",
       "    <tr>\n",
       "      <th>419980</th>\n",
       "      <td>rs73165152</td>\n",
       "      <td>-</td>\n",
       "      <td>ENSG00000100417.7</td>\n",
       "      <td>ENSG00000100417.7</td>\n",
       "      <td>22</td>\n",
       "      <td>22</td>\n",
       "      <td>42340397.0</td>\n",
       "      <td>41985894</td>\n",
       "      <td>354503.0</td>\n",
       "      <td>-0.231006</td>\n",
       "      <td>6.577641e-06</td>\n",
       "      <td>5.181930</td>\n",
       "    </tr>\n",
       "    <tr>\n",
       "      <th>419981</th>\n",
       "      <td>rs133352</td>\n",
       "      <td>-</td>\n",
       "      <td>ENSG00000198951.6</td>\n",
       "      <td>ENSG00000198951.6</td>\n",
       "      <td>22</td>\n",
       "      <td>22</td>\n",
       "      <td>42434022.0</td>\n",
       "      <td>42466846</td>\n",
       "      <td>32824.0</td>\n",
       "      <td>0.231003</td>\n",
       "      <td>6.579434e-06</td>\n",
       "      <td>5.181811</td>\n",
       "    </tr>\n",
       "    <tr>\n",
       "      <th>419982</th>\n",
       "      <td>rs4253755</td>\n",
       "      <td>-</td>\n",
       "      <td>ENSG00000075234.12</td>\n",
       "      <td>ENSG00000075234.12</td>\n",
       "      <td>22</td>\n",
       "      <td>22</td>\n",
       "      <td>46615376.0</td>\n",
       "      <td>46663858</td>\n",
       "      <td>48482.0</td>\n",
       "      <td>-0.231000</td>\n",
       "      <td>6.581573e-06</td>\n",
       "      <td>5.181670</td>\n",
       "    </tr>\n",
       "  </tbody>\n",
       "</table>\n",
       "<p>10486 rows × 12 columns</p>\n",
       "</div>"
      ],
      "text/plain": [
       "            SNP_ID ID             GENE_ID            PROBE_ID  CHR_SNP  \\\n",
       "407207      rs4275  -   ENSG00000260065.1   ENSG00000260065.1       22   \n",
       "407208  rs71311575  -   ENSG00000260065.1   ENSG00000260065.1       22   \n",
       "407209   rs6005067  -   ENSG00000260065.1   ENSG00000260065.1       22   \n",
       "407210   rs2283824  -   ENSG00000260065.1   ENSG00000260065.1       22   \n",
       "407211    rs134157  -   ENSG00000260065.1   ENSG00000260065.1       22   \n",
       "...            ... ..                 ...                 ...      ...   \n",
       "419978    rs133379  -   ENSG00000198951.6   ENSG00000198951.6       22   \n",
       "419979   rs4253766  -  ENSG00000075234.12  ENSG00000075234.12       22   \n",
       "419980  rs73165152  -   ENSG00000100417.7   ENSG00000100417.7       22   \n",
       "419981    rs133352  -   ENSG00000198951.6   ENSG00000198951.6       22   \n",
       "419982   rs4253755  -  ENSG00000075234.12  ENSG00000075234.12       22   \n",
       "\n",
       "        CHR_GENE      SNPpos    TSSpos  distance    rvalue        pvalue  \\\n",
       "407207        22  26921725.0  26921002     723.0  0.767814  1.809164e-73   \n",
       "407208        22  26919156.0  26921002    1846.0  0.750119  2.198221e-68   \n",
       "407209        22  26923325.0  26921002    2323.0  0.737897  4.089477e-65   \n",
       "407210        22  26924456.0  26921002    3454.0  0.737108  6.556517e-65   \n",
       "407211        22  26916722.0  26921002    4280.0 -0.652115  1.983698e-46   \n",
       "...          ...         ...       ...       ...       ...           ...   \n",
       "419978        22  42468535.0  42466846    1689.0  0.231022  6.568113e-06   \n",
       "419979        22  46623905.0  46663858   39953.0 -0.231008  6.576526e-06   \n",
       "419980        22  42340397.0  41985894  354503.0 -0.231006  6.577641e-06   \n",
       "419981        22  42434022.0  42466846   32824.0  0.231003  6.579434e-06   \n",
       "419982        22  46615376.0  46663858   48482.0 -0.231000  6.581573e-06   \n",
       "\n",
       "        log10pvalue  \n",
       "407207    72.742522  \n",
       "407208    67.657929  \n",
       "407209    64.388332  \n",
       "407210    64.183327  \n",
       "407211    45.702524  \n",
       "...             ...  \n",
       "419978     5.182559  \n",
       "419979     5.182003  \n",
       "419980     5.181930  \n",
       "419981     5.181811  \n",
       "419982     5.181670  \n",
       "\n",
       "[10486 rows x 12 columns]"
      ]
     },
     "execution_count": 15,
     "metadata": {},
     "output_type": "execute_result"
    }
   ],
   "source": [
    "df_ref.loc[df_ref['CHR_SNP'] == 22]"
   ]
  },
  {
   "cell_type": "code",
   "execution_count": 16,
   "metadata": {},
   "outputs": [
    {
     "name": "stderr",
     "output_type": "stream",
     "text": [
      "/Users/yanyul/miniconda3/lib/python3.7/site-packages/ipykernel_launcher.py:4: SettingWithCopyWarning: \n",
      "A value is trying to be set on a copy of a slice from a DataFrame.\n",
      "Try using .loc[row_indexer,col_indexer] = value instead\n",
      "\n",
      "See the caveats in the documentation: https://pandas.pydata.org/pandas-docs/stable/user_guide/indexing.html#returning-a-view-versus-a-copy\n",
      "  after removing the cwd from sys.path.\n"
     ]
    }
   ],
   "source": [
    "# select a gene and compare\n",
    "gene = 'ENSG00000198951.6'\n",
    "df_g_r = df_ref.loc[df_ref['GENE_ID'] == gene]\n",
    "df_g_r['SNPpos'] = df_g_r['SNPpos'].astype(int)\n",
    "df_g = df.loc[df['phenotype_id'] == gene]\n",
    "# df_g['correct_pval'] = 2*stats.t.cdf(-df_g['tstat_trc'].abs(), 1000)\n",
    "# add snp pos to df_g\n",
    "df_g = df_g.set_index('variant_id')\n",
    "df_g = df_g.join(variant_df)\n",
    "df_join = df_g_r.set_index('SNPpos').join(df_g.set_index('pos'))"
   ]
  },
  {
   "cell_type": "code",
   "execution_count": 17,
   "metadata": {},
   "outputs": [
    {
     "data": {
      "text/plain": [
       "<matplotlib.collections.PathCollection at 0x1ad9fcf8d0>"
      ]
     },
     "execution_count": 17,
     "metadata": {},
     "output_type": "execute_result"
    },
    {
     "data": {
      "image/png": "[encoded data removed]",
      "text/plain": [
       "<Figure size 432x288 with 1 Axes>"
      ]
     },
     "metadata": {
      "needs_background": "light"
     },
     "output_type": "display_data"
    }
   ],
   "source": [
    "# plot\n",
    "import matplotlib.pyplot as plt\n",
    "plt.scatter(-np.log(df_join['pvalue']), -np.log(df_join['pval_trc']))"
   ]
  },
  {
   "cell_type": "code",
   "execution_count": 18,
   "metadata": {},
   "outputs": [
    {
     "data": {
      "text/plain": [
       "<matplotlib.collections.PathCollection at 0x1ada0d54e0>"
      ]
     },
     "execution_count": 18,
     "metadata": {},
     "output_type": "execute_result"
    },
    {
     "data": {
      "image/png": "[encoded data removed]",
      "text/plain": [
       "<Figure size 432x288 with 1 Axes>"
      ]
     },
     "metadata": {
      "needs_background": "light"
     },
     "output_type": "display_data"
    }
   ],
   "source": [
    "plt.scatter(df_g['tss_distance'], -np.log(df_g['pval_trc']), c = np.isin(df_g['tss_distance'], df_join['tss_distance']).tolist())"
   ]
  }
 ],
 "metadata": {
  "kernelspec": {
   "display_name": "Python 3",
   "language": "python",
   "name": "python3"
  },
  "language_info": {
   "codemirror_mode": {
    "name": "ipython",
    "version": 3
   },
   "file_extension": ".py",
   "mimetype": "text/x-python",
   "name": "python",
   "nbconvert_exporter": "python",
   "pygments_lexer": "ipython3",
   "version": "3.7.1"
  }
 },
 "nbformat": 4,
 "nbformat_minor": 4
}
